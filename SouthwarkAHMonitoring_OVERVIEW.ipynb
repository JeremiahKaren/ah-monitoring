{
 "cells": [
  {
   "cell_type": "markdown",
   "metadata": {},
   "source": [
    "## AH Monitoring OVERVIEW - November 2020\n",
    "In preparing evidence for submission to the 2015 Aylesbury estate CPO public inquiry we were investigating Notting Hill Genesis's involvement in Southwark regeneration schemes to date - Silwood estate, Wood Dene estate and the Bermondsey Spa regeneration. \n",
    "\n",
    "We found that one of the schemes was in the [2014 GLA funding round listed](http://35percent.org/img/GLA+Affordable+Housing+Dataset_v1_0-1.xls) as 'affordable rent' tenure with rents listed as up to 62% of market rent.\n",
    "\n",
    "We asked a local Councillor to get in touch with the housing association to confirm "
   ]
  }
 ],
 "metadata": {
  "kernelspec": {
   "display_name": "Python 3",
   "language": "python",
   "name": "python3"
  },
  "language_info": {
   "codemirror_mode": {
    "name": "ipython",
    "version": 3
   },
   "file_extension": ".py",
   "mimetype": "text/x-python",
   "name": "python",
   "nbconvert_exporter": "python",
   "pygments_lexer": "ipython3",
   "version": "3.8.1"
  }
 },
 "nbformat": 4,
 "nbformat_minor": 4
}
