{
 "cells": [
  {
   "cell_type": "markdown",
   "metadata": {},
   "source": [
    "## AH Monitoring OVERVIEW - November 2020\n",
    "In preparing evidence for submission to the 2015 Aylesbury estate CPO public inquiry we were investigating Notting Hill Genesis's involvement in Southwark regeneration schemes to date - Silwood estate, Wood Dene estate and the Bermondsey Spa regeneration. \n",
    "\n",
    "We found that one of the schemes was in the [2014 GLA funding round listed](http://35percent.org/img/GLA+Affordable+Housing+Dataset_v1_0-1.xls) as 'affordable rent' tenure with rents listed as up to 62% of market rent.\n",
    "\n",
    "We asked a local Councillor to get in touch with the housing association to confirm the rent levels it was charging. Notting Hill Genesis responded that all of the homes that were supposed to be social rent were being let at affordable rent.\n",
    "\n",
    "![](/images/nhgemail.png)\n",
    "\n",
    "We also checked the Council's [choice-based letting system](https://www.southwarkhomesearch.org.uk/) and found the homes being advertised at rents well above social rent levels.\n",
    "\n",
    "![](/images/nhghomesearch.jpg)\n",
    "\n",
    "We were somewhat surprised that there didn't seem to be any control\n",
    "\n",
    "In the Council's 28 Jan 2016 response to our complaint, Mr Simon Bevan said that _‘Southwark Council has appropriate safeguards in place and has not failed in its duties’_ and therefore the compliant is not upheld.\n",
    "\n",
    "It was only when we referred the complaint to the Ombudsman that..\n"
   ]
  }
 ],
 "metadata": {
  "kernelspec": {
   "display_name": "Python 3",
   "language": "python",
   "name": "python3"
  },
  "language_info": {
   "codemirror_mode": {
    "name": "ipython",
    "version": 3
   },
   "file_extension": ".py",
   "mimetype": "text/x-python",
   "name": "python",
   "nbconvert_exporter": "python",
   "pygments_lexer": "ipython3",
   "version": "3.8.1"
  }
 },
 "nbformat": 4,
 "nbformat_minor": 4
}
